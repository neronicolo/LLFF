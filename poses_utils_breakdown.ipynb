{
 "cells": [
  {
   "cell_type": "code",
   "execution_count": 10,
   "metadata": {},
   "outputs": [],
   "source": [
    "import numpy as np\n",
    "import os\n",
    "import sys\n",
    "import imageio\n",
    "#import skimage.transform\n",
    "from pathlib import Path\n",
    "from llff.poses.colmap_wrapper import run_colmap\n",
    "import llff.poses.colmap_read_model as read_model"
   ]
  },
  {
   "cell_type": "code",
   "execution_count": 44,
   "metadata": {},
   "outputs": [],
   "source": [
    "dir = Path('/home/nikola/projects/pxo/data/prepared/nerfstudio/living_room/colmap/sparse/0')\n"
   ]
  },
  {
   "cell_type": "code",
   "execution_count": 73,
   "metadata": {},
   "outputs": [
    {
     "name": "stdout",
     "output_type": "stream",
     "text": [
      "Images # 606\n"
     ]
    }
   ],
   "source": [
    "# load_colmap_data(dir)\n",
    "\n",
    "camerasfile = os.path.join(dir, 'cameras.bin')\n",
    "camdata = read_model.read_cameras_binary(camerasfile)\n",
    "\n",
    "imagesfile = os.path.join(dir, 'images.bin')\n",
    "imdata = read_model.read_images_binary(imagesfile)\n",
    "\n",
    "points3dfile = os.path.join(dir, 'points3D.bin')\n",
    "pts3d = read_model.read_points3d_binary(points3dfile)\n",
    "\n",
    "list_of_keys = list(camdata.keys())\n",
    "cam = camdata[list_of_keys[0]]\n",
    "\n",
    "h, w, f = cam.height, cam.width, cam.params[0]\n",
    "hwf = np.array([h,w,f]).reshape([3,1])\n",
    "\n",
    "w2c_mats = []\n",
    "bottom = np.array([0,0,0,1.]).reshape([1,4])\n",
    "\n",
    "names = [imdata[k].name for k in imdata]\n",
    "print( 'Images #', len(names))\n",
    "perm = np.argsort(names)\n",
    "for k in imdata:\n",
    "    im = imdata[k]\n",
    "    R = im.qvec2rotmat()\n",
    "    t = im.tvec.reshape([3,1])\n",
    "    m = np.concatenate([np.concatenate([R, t], 1), bottom], 0)\n",
    "    w2c_mats.append(m)\n",
    "\n",
    "w2c_mats = np.stack(w2c_mats, 0)\n",
    "c2w_mats = np.linalg.inv(w2c_mats)\n",
    "\n",
    "poses = c2w_mats[:, :3, :4].transpose([1,2,0])\n",
    "poses = np.concatenate([poses, np.tile(hwf[..., np.newaxis], [1,1,poses.shape[-1]])], 1)\n",
    "# must switch to [-u, r, -t] from [r, -u, t], NOT [r, u, -t]\n",
    "poses = np.concatenate([poses[:, 1:2, :], poses[:, 0:1, :], -poses[:, 2:3, :], poses[:, 3:4, :], poses[:, 4:5, :]], 1)    \n"
   ]
  },
  {
   "cell_type": "code",
   "execution_count": 150,
   "metadata": {},
   "outputs": [
    {
     "name": "stdout",
     "output_type": "stream",
     "text": [
      "pts_pos_world.shape: (3, 34856, 1)\n",
      "pts_pos_world[:, 0, :]: \n",
      "[[-4.26072841]\n",
      " [-2.11201705]\n",
      " [ 5.30605664]]\n",
      "poses.shape: (3, 5, 606)\n",
      "poses[:, :, 0]: \n",
      "[[  -0.10608506    0.87490473   -0.47253325   -1.21947847 1080.        ]\n",
      " [   0.99305713    0.11751033   -0.00537144   -0.19859704 1920.        ]\n",
      " [   0.05082803   -0.46982235   -0.88129647    0.07956947  876.07432824]]\n",
      "cam_pos_world.shape: (3, 1, 606)\n",
      "cam_pos_world[:, :, 0]]: \n",
      "[[-1.21947847]\n",
      " [-0.19859704]\n",
      " [ 0.07956947]]\n"
     ]
    }
   ],
   "source": [
    "# initializes an empty list to store world points position\n",
    "pts_pos_world = []\n",
    "\n",
    "for k in pts3d:\n",
    "    pts_pos_world.append(pts3d[k].xyz)\n",
    "\n",
    "# convert list of points to numpy array\n",
    "pts_pos_world = np.array(pts_pos_world)\n",
    "#print(f'pts_pos_world.shape: {pts_pos_world.shape}')\n",
    "\n",
    "# add new axis to pts_pos_world in the middle to get (numpoints, 1, xyz) and transpose \n",
    "# to (xyz, numpoints, 1)\n",
    "pts_pos_world = pts_pos_world[:, np.newaxis, :].transpose([2,0,1])\n",
    "print(f'pts_pos_world.shape: {pts_pos_world.shape}')\n",
    "print(f'pts_pos_world[:, 0, :]: \\n{pts_pos_world[:, 0, :]}')\n",
    "\n",
    "print(f'poses.shape: {poses.shape}')\n",
    "with np.printoptions(suppress=True):\n",
    "    print(f'poses[:, :, 0]: \\n{poses[:, :, 0]}')\n",
    "\n",
    "# get world camera position from poses\n",
    "cam_pos_world = poses[:3, 3:4, :]\n",
    "print(f'cam_pos_world.shape: {cam_pos_world.shape}')\n",
    "print(f'cam_pos_world[:, :, 0]]: \\n{cam_pos_world[:, :, 0]}')\n",
    "\n",
    "# get y column of poses\n",
    "poses_y_col = poses[:3, 2:3, :]\n",
    "#print(f'poses_y_col.shape: {poses_y_col.shape}')\n",
    "\n",
    "# here we subtract world camera position from the world point position\n",
    "# pts_pos_world shape is (3, numpoints, 1) and cam_pos_world shape is (3, 1, numimages) \n",
    "# np will perform broadcasting to get (3, numpoints, numimages) for pts_pos_world and\n",
    "# (3, numpoints, numimages) for cam_pos_world \n",
    "z_vals = pts_pos_world - cam_pos_world\n",
    "#print(f'z_vals.shape: {z_vals.shape}')\n",
    "\n",
    "\n",
    "z_vals = -z_vals * poses_y_col\n",
    "\n",
    "\n",
    "# sum all z values along rows??\n",
    "#z_vals = np.sum(z_vals, 0)\n",
    "#print(f'z_vals.shape: {z_vals.shape}')\n",
    "#z_vals[0,0]"
   ]
  },
  {
   "cell_type": "code",
   "execution_count": null,
   "metadata": {},
   "outputs": [],
   "source": []
  }
 ],
 "metadata": {
  "kernelspec": {
   "display_name": "snerg",
   "language": "python",
   "name": "python3"
  },
  "language_info": {
   "codemirror_mode": {
    "name": "ipython",
    "version": 3
   },
   "file_extension": ".py",
   "mimetype": "text/x-python",
   "name": "python",
   "nbconvert_exporter": "python",
   "pygments_lexer": "ipython3",
   "version": "3.6.13"
  },
  "orig_nbformat": 4
 },
 "nbformat": 4,
 "nbformat_minor": 2
}
